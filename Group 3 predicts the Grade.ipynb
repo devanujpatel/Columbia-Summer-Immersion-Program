{
 "cells": [
  {
   "cell_type": "markdown",
   "id": "8b44825c",
   "metadata": {},
   "source": [
    "# Group 3\n",
    "## Use case: predict Grade\n",
    "## Group Members: Dev Patel, Jay Liang, Yiran Hu, Terry Jin, Te Qi"
   ]
  },
  {
   "cell_type": "code",
   "execution_count": 28,
   "id": "ff011eee",
   "metadata": {},
   "outputs": [],
   "source": [
    "import pandas as pd\n",
    "import sweetviz as sv\n",
    "import seaborn as sns\n",
    "import warnings\n",
    "import matplotlib.pyplot as plt\n",
    "warnings.filterwarnings('ignore')\n",
    "%matplotlib inline\n",
    "\n",
    "# importing the dataset\n",
    "df = pd.read_csv(r\"D:\\DEV PC\\Columbia Summer Program\\project_2\\big_columbia_dataset.csv\")"
   ]
  },
  {
   "cell_type": "markdown",
   "id": "995e14fe",
   "metadata": {},
   "source": [
    "## Data Cleaning and Exploratory Data Analysis"
   ]
  },
  {
   "cell_type": "markdown",
   "id": "69e431a2",
   "metadata": {},
   "source": [
    "### Changing categorical values to numeric values"
   ]
  },
  {
   "cell_type": "code",
   "execution_count": 29,
   "id": "6c036003",
   "metadata": {},
   "outputs": [],
   "source": [
    "df['grade'] = df['grade'].replace(['A'], 0)\n",
    "df['grade'] = df['grade'].replace(['B'], 1)\n",
    "df['grade'] = df['grade'].replace(['C'], 2)\n",
    "df['grade'] = df['grade'].replace(['D'], 3)\n",
    "df['grade'] = df['grade'].replace(['E'], 4)\n",
    "df['grade'] = df['grade'].replace(['F'], 5)\n",
    "df['grade'] = df['grade'].replace(['G'], 6)"
   ]
  },
  {
   "cell_type": "code",
   "execution_count": 30,
   "id": "2b235cda",
   "metadata": {
    "scrolled": true
   },
   "outputs": [
    {
     "name": "stdout",
     "output_type": "stream",
     "text": [
      "['10+ years' '< 1 year' '1 year' '3 years' '8 years' '9 years' '4 years'\n",
      " '5 years' '6 years' '2 years' '7 years' nan]\n"
     ]
    }
   ],
   "source": [
    "print(df[\"emp_length\"].unique())\n",
    "df['emp_length'] = df['emp_length'].replace(['10+ years'], 10)\n",
    "df['emp_length'] = df['emp_length'].replace(['< 1 year'], 0)\n",
    "df[\"emp_length\"].fillna(0, inplace = True)\n",
    "\n",
    "for val in df[\"emp_length\"].unique():\n",
    "    if val not in [0, 10]:\n",
    "        df['emp_length'] = df['emp_length'].replace([val], int(val[0]))"
   ]
  },
  {
   "cell_type": "code",
   "execution_count": 31,
   "id": "a2d98d9b",
   "metadata": {},
   "outputs": [
    {
     "data": {
      "text/plain": [
       "array([10,  0,  1,  3,  8,  9,  4,  5,  6,  2,  7], dtype=int64)"
      ]
     },
     "execution_count": 31,
     "metadata": {},
     "output_type": "execute_result"
    }
   ],
   "source": [
    "df[\"emp_length\"].unique()"
   ]
  },
  {
   "cell_type": "code",
   "execution_count": 32,
   "id": "e1e5029a",
   "metadata": {},
   "outputs": [],
   "source": [
    "df['home_ownership'] = df['home_ownership'].replace(['RENT', 'MORTGAGE'], 0)\n",
    "df['home_ownership'] = df['home_ownership'].replace(['OWN'], 1)"
   ]
  },
  {
   "cell_type": "code",
   "execution_count": 33,
   "id": "bbe18898",
   "metadata": {},
   "outputs": [],
   "source": [
    "df[\"loan_status\"].unique()\n",
    "\n",
    "df['loan_status'] = df['loan_status'].replace(['Fully Paid'], 1)\n",
    "df['loan_status'] = df['loan_status'].replace(['Current'], 1)\n",
    "df['loan_status'] = df['loan_status'].replace(['Charged Off'], 0)\n",
    "df['loan_status'] = df['loan_status'].replace(['Default'], 0)\n",
    "df['loan_status'] = df['loan_status'].replace(['Late (31-120 days)'], 1)"
   ]
  },
  {
   "cell_type": "code",
   "execution_count": 34,
   "id": "00b3e53e",
   "metadata": {},
   "outputs": [],
   "source": [
    "df[\"term\"] = df[\"term\"].replace(\" 36 months\", 36)\n",
    "df[\"term\"] = df[\"term\"].replace(\" 60 months\", 60)"
   ]
  },
  {
   "cell_type": "markdown",
   "id": "180b7855",
   "metadata": {},
   "source": [
    "\n",
    "### Correlations"
   ]
  },
  {
   "cell_type": "code",
   "execution_count": 35,
   "id": "4c49fbf4",
   "metadata": {},
   "outputs": [
    {
     "data": {
      "text/plain": [
       "grade                          1.000000\n",
       "int_rate                       0.965557\n",
       "total_rec_int                  0.545163\n",
       "mths_since_last_record         0.544795\n",
       "term                           0.539320\n",
       "revol_util                     0.393834\n",
       "out_prncp                      0.270261\n",
       "out_prncp_inv                  0.270223\n",
       "total_pymnt                    0.240430\n",
       "CLI                            0.238684\n",
       "total_pymnt_inv                0.233850\n",
       "inq_last_6mths                 0.224765\n",
       "installment                    0.175336\n",
       "last_pymnt_amnt                0.147653\n",
       "delinq_2yrs                    0.142249\n",
       "open_acc                       0.121775\n",
       "recoveries                     0.110923\n",
       "annual_inc                     0.101566\n",
       "revol_bal                      0.096552\n",
       "collection_recovery_fee        0.087746\n",
       "dti                            0.079786\n",
       "total_rec_prncp                0.070818\n",
       "id                             0.070616\n",
       "member_id                      0.065651\n",
       "total_rec_late_fee             0.062717\n",
       "pub_rec                        0.054022\n",
       "emp_length                     0.047526\n",
       "total_acc                      0.024920\n",
       "home_ownership                -0.010172\n",
       "mths_since_last_delinq        -0.121320\n",
       "loan_status                   -0.149881\n",
       "collections_12_mths_ex_med          NaN\n",
       "mths_since_last_major_derog         NaN\n",
       "policy_code                         NaN\n",
       "annual_inc_joint                    NaN\n",
       "dti_joint                           NaN\n",
       "verification_status_joint           NaN\n",
       "acc_now_delinq                      NaN\n",
       "tot_coll_amt                        NaN\n",
       "tot_cur_bal                         NaN\n",
       "open_acc_6m                         NaN\n",
       "open_il_6m                          NaN\n",
       "open_il_12m                         NaN\n",
       "open_il_24m                         NaN\n",
       "mths_since_rcnt_il                  NaN\n",
       "total_bal_il                        NaN\n",
       "il_util                             NaN\n",
       "open_rv_12m                         NaN\n",
       "open_rv_24m                         NaN\n",
       "max_bal_bc                          NaN\n",
       "all_util                            NaN\n",
       "total_rev_hi_lim                    NaN\n",
       "inq_fi                              NaN\n",
       "total_cu_tl                         NaN\n",
       "inq_last_12m                        NaN\n",
       "Name: grade, dtype: float64"
      ]
     },
     "execution_count": 35,
     "metadata": {},
     "output_type": "execute_result"
    }
   ],
   "source": [
    "df.corr()[\"grade\"].sort_values(ascending=False)"
   ]
  },
  {
   "cell_type": "markdown",
   "id": "b80a94b9",
   "metadata": {},
   "source": [
    "## Most Related Features\n",
    "    int_rate                       0.965557\n",
    "    total_rec_int                  0.545163\n",
    "    mths_since_last_record         0.544795\n",
    "    term                           0.539320\n",
    "    revol_util                     0.393834\n",
    "    out_prncp                      0.270261\n",
    "    out_prncp_inv                  0.270223\n",
    "    total_pymnt                    0.240430\n",
    "    CLI                            0.238684\n",
    "    total_pymnt_inv                0.233850\n",
    "    inq_last_6mths                 0.224765"
   ]
  },
  {
   "cell_type": "markdown",
   "id": "a79e920b",
   "metadata": {},
   "source": [
    "## Checking for null values"
   ]
  },
  {
   "cell_type": "code",
   "execution_count": 9,
   "id": "11f4c1a7",
   "metadata": {},
   "outputs": [
    {
     "name": "stdout",
     "output_type": "stream",
     "text": [
      "mths_since_last_record \n",
      "(Number of null values: 979 )\n"
     ]
    }
   ],
   "source": [
    "for feature in [\"int_rate\", \"total_rec_int\", \"revol_util\", \"out_prncp\", \"out_prncp_inv\", \"total_pymnt\", \"CLI\", \"total_pymnt_inv\", \"inq_last_6mths\", \"mths_since_last_record\"]:\n",
    "    if df[feature].isna().sum() > 0:\n",
    "        print(feature, \"\\n(Number of null values:\", df[feature].isna().sum(), \")\")"
   ]
  },
  {
   "cell_type": "markdown",
   "id": "da89f67a",
   "metadata": {},
   "source": [
    "## Most Related Features (which are not null)\n",
    "    int_rate                       0.965557\n",
    "    total_rec_int                  0.545163\n",
    "    term                           0.539320\n",
    "    revol_util                     0.393834\n",
    "    out_prncp                      0.270261\n",
    "    out_prncp_inv                  0.270223\n",
    "    total_pymnt                    0.240430\n",
    "    CLI                            0.238684\n",
    "    total_pymnt_inv                0.233850\n",
    "    inq_last_6mths                 0.224765"
   ]
  },
  {
   "cell_type": "markdown",
   "id": "42b30d69",
   "metadata": {},
   "source": [
    "### sweetviz analysis"
   ]
  },
  {
   "cell_type": "code",
   "execution_count": 115,
   "id": "52dde023",
   "metadata": {},
   "outputs": [
    {
     "data": {
      "application/vnd.jupyter.widget-view+json": {
       "model_id": "61749b93cdfc47c4832cd44e83f0de3f",
       "version_major": 2,
       "version_minor": 0
      },
      "text/plain": [
       "                                             |                                             | [  0%]   00:00 ->…"
      ]
     },
     "metadata": {},
     "output_type": "display_data"
    },
    {
     "name": "stdout",
     "output_type": "stream",
     "text": [
      "Report SWEETVIZ_REPORT.html was generated! NOTEBOOK/COLAB USERS: the web browser MAY not pop up, regardless, the report IS saved in your notebook/colab files.\n"
     ]
    }
   ],
   "source": [
    "eda = sv.analyze(df[[\"grade\",\"int_rate\", \"term\",\"total_rec_int\", \"revol_util\", \"out_prncp\", \"out_prncp_inv\", \"total_pymnt\", \"CLI\", \"total_pymnt_inv\", \"inq_last_6mths\"]])\n",
    "eda.show_html()"
   ]
  },
  {
   "cell_type": "markdown",
   "id": "ea05151f",
   "metadata": {},
   "source": [
    "### Visualizations"
   ]
  },
  {
   "cell_type": "code",
   "execution_count": 10,
   "id": "08b7ecfd",
   "metadata": {},
   "outputs": [
    {
     "data": {
      "text/plain": [
       "<AxesSubplot:xlabel='grade', ylabel='int_rate'>"
      ]
     },
     "execution_count": 10,
     "metadata": {},
     "output_type": "execute_result"
    },
    {
     "data": {
      "image/png": "[encoded data removed]",
      "text/plain": [
       "<Figure size 432x288 with 1 Axes>"
      ]
     },
     "metadata": {
      "needs_background": "light"
     },
     "output_type": "display_data"
    }
   ],
   "source": [
    "sns.boxplot(x=\"grade\", y=\"int_rate\",data=df.sort_values(\"grade\"))"
   ]
  },
  {
   "cell_type": "code",
   "execution_count": 11,
   "id": "5fe80542",
   "metadata": {},
   "outputs": [
    {
     "data": {
      "text/plain": [
       "<AxesSubplot:xlabel='grade', ylabel='int_rate'>"
      ]
     },
     "execution_count": 11,
     "metadata": {},
     "output_type": "execute_result"
    },
    {
     "data": {
      "image/png": "[encoded data removed]",
      "text/plain": [
       "<Figure size 432x288 with 1 Axes>"
      ]
     },
     "metadata": {
      "needs_background": "light"
     },
     "output_type": "display_data"
    }
   ],
   "source": [
    "sns.barplot(x=\"grade\", y = \"int_rate\", data=df)"
   ]
  },
  {
   "cell_type": "code",
   "execution_count": 138,
   "id": "705a97f7",
   "metadata": {},
   "outputs": [
    {
     "data": {
      "text/plain": [
       "<AxesSubplot:xlabel='grade', ylabel='CLI'>"
      ]
     },
     "execution_count": 138,
     "metadata": {},
     "output_type": "execute_result"
    },
    {
     "data": {
      "image/png": "[encoded data removed]",
      "text/plain": [
       "<Figure size 432x288 with 1 Axes>"
      ]
     },
     "metadata": {
      "needs_background": "light"
     },
     "output_type": "display_data"
    }
   ],
   "source": [
    "sns.boxplot(x=\"grade\", y = \"CLI\", data=df)"
   ]
  },
  {
   "cell_type": "code",
   "execution_count": 142,
   "id": "9be2362e",
   "metadata": {},
   "outputs": [
    {
     "data": {
      "text/plain": [
       "<AxesSubplot:xlabel='grade', ylabel='CLI'>"
      ]
     },
     "execution_count": 142,
     "metadata": {},
     "output_type": "execute_result"
    },
    {
     "data": {
      "image/png": "[encoded data removed]",
      "text/plain": [
       "<Figure size 432x288 with 1 Axes>"
      ]
     },
     "metadata": {
      "needs_background": "light"
     },
     "output_type": "display_data"
    }
   ],
   "source": [
    "sns.barplot(x=\"grade\", y = \"CLI\", data=df)"
   ]
  },
  {
   "cell_type": "code",
   "execution_count": 140,
   "id": "51bc5792",
   "metadata": {},
   "outputs": [
    {
     "data": {
      "text/plain": [
       "<AxesSubplot:xlabel='grade', ylabel='total_rec_int'>"
      ]
     },
     "execution_count": 140,
     "metadata": {},
     "output_type": "execute_result"
    },
    {
     "data": {
      "image/png": "[encoded data removed]",
      "text/plain": [
       "<Figure size 432x288 with 1 Axes>"
      ]
     },
     "metadata": {
      "needs_background": "light"
     },
     "output_type": "display_data"
    }
   ],
   "source": [
    "sns.barplot(x=\"grade\", y = \"total_rec_int\", data=df)"
   ]
  },
  {
   "cell_type": "code",
   "execution_count": 80,
   "id": "e1ed5402",
   "metadata": {},
   "outputs": [
    {
     "data": {
      "text/plain": [
       "<AxesSubplot:xlabel='grade', ylabel='inq_last_6mths'>"
      ]
     },
     "execution_count": 80,
     "metadata": {},
     "output_type": "execute_result"
    },
    {
     "data": {
      "image/png": "[encoded data removed]",
      "text/plain": [
       "<Figure size 432x288 with 1 Axes>"
      ]
     },
     "metadata": {
      "needs_background": "light"
     },
     "output_type": "display_data"
    }
   ],
   "source": [
    "sns.barplot(x=\"grade\", y=\"inq_last_6mths\", data=df.sort_values(\"grade\"))"
   ]
  },
  {
   "cell_type": "code",
   "execution_count": null,
   "id": "0d5413ea",
   "metadata": {},
   "outputs": [],
   "source": []
  },
  {
   "cell_type": "markdown",
   "id": "4f387278",
   "metadata": {},
   "source": [
    "### Grades Pie Chart"
   ]
  },
  {
   "cell_type": "code",
   "execution_count": 13,
   "id": "6b0f3bfe",
   "metadata": {},
   "outputs": [
    {
     "name": "stdout",
     "output_type": "stream",
     "text": [
      "[202, 354, 207, 138, 72, 21, 5]\n"
     ]
    }
   ],
   "source": [
    "counts = {0:0, 1:0, 2:0, 3:0, 4:0, 5:0, 6:0}\n",
    "for index, row in df.iterrows():\n",
    "    for key in counts:\n",
    "        if row[\"grade\"] == key:\n",
    "            counts[key] += 1\n",
    "            \n",
    "print(list(counts.values()))"
   ]
  },
  {
   "cell_type": "code",
   "execution_count": 151,
   "id": "93ed505d",
   "metadata": {},
   "outputs": [
    {
     "data": {
      "image/png": "[encoded data removed]",
      "text/plain": [
       "<Figure size 432x288 with 1 Axes>"
      ]
     },
     "metadata": {},
     "output_type": "display_data"
    }
   ],
   "source": [
    "counts = {0:0, 1:0, 2:0, 3:0, 4:0, 5:0, 6:0}\n",
    "for index, row in df.iterrows():\n",
    "    for key in counts:\n",
    "        if row[\"grade\"] == key:\n",
    "            counts[key] += 1\n",
    "\n",
    "y = list(counts.values())\n",
    "mylabels = [\"A\", \"B\", \"C\", \"D\", \"E\", \"F\", \"G\"]\n",
    "\n",
    "plt.pie(y, labels = mylabels)\n",
    "plt.show() "
   ]
  },
  {
   "cell_type": "code",
   "execution_count": 14,
   "id": "bbb23def",
   "metadata": {},
   "outputs": [
    {
     "name": "stdout",
     "output_type": "stream",
     "text": [
      "[197, 300, 145, 72, 10, 1, 0]\n",
      "[5, 54, 62, 66, 62, 20, 5]\n"
     ]
    },
    {
     "data": {
      "text/plain": [
       "<matplotlib.legend.Legend at 0x28520e67e50>"
      ]
     },
     "execution_count": 14,
     "metadata": {},
     "output_type": "execute_result"
    },
    {
     "data": {
      "image/png": "[encoded data removed]",
      "text/plain": [
       "<Figure size 432x288 with 1 Axes>"
      ]
     },
     "metadata": {
      "needs_background": "light"
     },
     "output_type": "display_data"
    }
   ],
   "source": [
    "m36 =[]\n",
    "\n",
    "for grade in sorted(df[\"grade\"].unique()):\n",
    "    m36.append( len(df[(df[\"term\"] == 36) & (df[\"grade\"] == grade)]) )\n",
    "\n",
    "print(m36)\n",
    "    \n",
    "m60 =[]\n",
    "\n",
    "for grade in sorted(df[\"grade\"].unique()):\n",
    "    m60.append( len(df[(df[\"term\"] == 60) & (df[\"grade\"] == grade)]) )\n",
    "\n",
    "    \n",
    "print(m60)\n",
    "\n",
    "import matplotlib.pyplot as plt\n",
    "fig = plt.figure()\n",
    "ax = fig.add_axes([0,0,1,1])\n",
    "ax.bar(sorted(df[\"grade\"].unique()), m36, color = 'blue', width = 0.25, label=\"36 Months\")\n",
    "ax.bar(sorted(df[\"grade\"].unique()), m60, color = 'orange', width = 0.25, label = \"60 Months\")\n",
    "plt.legend()"
   ]
  },
  {
   "cell_type": "markdown",
   "id": "60732aad",
   "metadata": {},
   "source": [
    "### Splitting the Dataset"
   ]
  },
  {
   "cell_type": "code",
   "execution_count": 37,
   "id": "1140f3d1",
   "metadata": {},
   "outputs": [
    {
     "data": {
      "text/plain": [
       "((699, 9), (300, 9), (699,), (300,))"
      ]
     },
     "execution_count": 37,
     "metadata": {},
     "output_type": "execute_result"
    }
   ],
   "source": [
    "from sklearn.model_selection import train_test_split #for split the data\n",
    "from sklearn.metrics import accuracy_score  #for accuracy_score\n",
    "from sklearn.model_selection import KFold #for K-fold cross validation\n",
    "from sklearn.model_selection import cross_val_score #score evaluation\n",
    "from sklearn.model_selection import cross_val_predict #prediction\n",
    "from sklearn.model_selection import GridSearchCV # for Hyper parameter tuning\n",
    "from sklearn.metrics import confusion_matrix #for confusion matrix\n",
    "from sklearn import metrics\n",
    "\n",
    "\n",
    "all_features = df.loc[: , [\"int_rate\",\"total_rec_int\", \"revol_util\", \"out_prncp\", \"out_prncp_inv\", \"total_pymnt\", \"CLI\", \"total_pymnt_inv\", \"inq_last_6mths\"]]\n",
    "Targeted_feature = df[\"grade\"]\n",
    "\n",
    "# total of 6891 records in dataset\n",
    "# Divide the data set into two- 70% for train and 30% for test\n",
    "\n",
    "#X_train,X_test,y_train,y_test = train_test_split(all_features,Targeted_feature,test_size=0.3)  \n",
    "X_train,X_test,y_train,y_test = train_test_split(all_features,Targeted_feature,test_size=0.3,random_state=42) \n",
    "\n",
    "# Check the train test data set shape\n",
    "X_train.shape,X_test.shape,y_train.shape,y_test.shape"
   ]
  },
  {
   "cell_type": "markdown",
   "id": "d9c3d61a",
   "metadata": {},
   "source": [
    "## Random Forest Classifier"
   ]
  },
  {
   "cell_type": "code",
   "execution_count": 38,
   "id": "86866da4",
   "metadata": {},
   "outputs": [
    {
     "name": "stdout",
     "output_type": "stream",
     "text": [
      "\n",
      "ACCURACY OF THE MODEL:  0.9666666666666667\n"
     ]
    },
    {
     "data": {
      "text/plain": [
       "Text(0.5, 1.05, 'Confusion_matrix')"
      ]
     },
     "execution_count": 38,
     "metadata": {},
     "output_type": "execute_result"
    },
    {
     "data": {
      "image/png": "[encoded data removed]",
      "text/plain": [
       "<Figure size 432x288 with 2 Axes>"
      ]
     },
     "metadata": {
      "needs_background": "light"
     },
     "output_type": "display_data"
    }
   ],
   "source": [
    "from sklearn.ensemble import RandomForestClassifier\n",
    "import seaborn as sns\n",
    "import matplotlib.pyplot as plt\n",
    "# creating a RF classifier\n",
    "clf = RandomForestClassifier(n_estimators = 100) \n",
    "\n",
    "# Training the model on the training dataset\n",
    "# fit function is used to train the model using the training sets as parameters\n",
    "clf.fit(X_train, y_train)\n",
    "\n",
    "# performing predictions on the test dataset\n",
    "y_pred = clf.predict(X_test)\n",
    " \n",
    "# metrics are used to find accuracy or error\n",
    "from sklearn import metrics \n",
    "print()\n",
    "\n",
    "# using metrics module for accuracy calculation\n",
    "print(\"ACCURACY OF THE MODEL: \", metrics.accuracy_score(y_test, y_pred))\n",
    "sns.heatmap(confusion_matrix(y_test,y_pred),annot=True,fmt='3.0f',cmap=\"summer\")\n",
    "plt.title('Confusion_matrix', y=1.05, size=15)\n"
   ]
  },
  {
   "cell_type": "code",
   "execution_count": 73,
   "id": "86cf8f9d",
   "metadata": {},
   "outputs": [
    {
     "data": {
      "text/plain": [
       "[1.0,\n",
       " 1.0,\n",
       " 0.9913043478260869,\n",
       " 0.9782608695652174,\n",
       " 0.8648648648648648,\n",
       " 0.33333333333333337,\n",
       " 0.0]"
      ]
     },
     "execution_count": 73,
     "metadata": {},
     "output_type": "execute_result"
    }
   ],
   "source": [
    "from sklearn.metrics import f1_score\n",
    "list(f1_score(y_test, y_pred, average=None))"
   ]
  },
  {
   "cell_type": "markdown",
   "id": "f3c7c6ff",
   "metadata": {},
   "source": [
    "## Hyper Parameter Tuning"
   ]
  },
  {
   "cell_type": "code",
   "execution_count": 105,
   "id": "2e44ea3c",
   "metadata": {},
   "outputs": [
    {
     "data": {
      "text/plain": [
       "{'bootstrap': True,\n",
       " 'ccp_alpha': 0.0,\n",
       " 'class_weight': None,\n",
       " 'criterion': 'gini',\n",
       " 'max_depth': None,\n",
       " 'max_features': 'auto',\n",
       " 'max_leaf_nodes': None,\n",
       " 'max_samples': None,\n",
       " 'min_impurity_decrease': 0.0,\n",
       " 'min_samples_leaf': 1,\n",
       " 'min_samples_split': 2,\n",
       " 'min_weight_fraction_leaf': 0.0,\n",
       " 'n_estimators': 100,\n",
       " 'n_jobs': None,\n",
       " 'oob_score': False,\n",
       " 'random_state': None,\n",
       " 'verbose': 0,\n",
       " 'warm_start': False}"
      ]
     },
     "execution_count": 105,
     "metadata": {},
     "output_type": "execute_result"
    }
   ],
   "source": [
    "clf.get_params()"
   ]
  },
  {
   "cell_type": "code",
   "execution_count": 51,
   "id": "3aa44769",
   "metadata": {},
   "outputs": [
    {
     "name": "stdout",
     "output_type": "stream",
     "text": [
      "{'n_estimators': [200, 400, 600, 800, 1000, 1200, 1400, 1600, 1800, 2000], 'max_features': ['auto', 'sqrt'], 'max_depth': [10, 20, 30, 40, 50, 60, 70, 80, 90, 100, 110, None], 'min_samples_split': [2, 5, 10], 'min_samples_leaf': [1, 2, 4], 'bootstrap': [True, False]}\n"
     ]
    }
   ],
   "source": [
    "from sklearn.model_selection import RandomizedSearchCV\n",
    "import numpy as np\n",
    "# Number of trees in random forest\n",
    "n_estimators = [int(x) for x in np.linspace(start = 200, stop = 2000, num = 10)]\n",
    "# Number of features to consider at every split\n",
    "max_features = ['auto', 'sqrt']\n",
    "# Maximum number of levels in tree\n",
    "max_depth = [int(x) for x in np.linspace(10, 110, num = 11)]\n",
    "max_depth.append(None)\n",
    "# Minimum number of samples required to split a node\n",
    "min_samples_split = [2, 5, 10]\n",
    "# Minimum number of samples required at each leaf node\n",
    "min_samples_leaf = [1, 2, 4]\n",
    "# Method of selecting samples for training each tree\n",
    "bootstrap = [True, False]\n",
    "# Create the random grid\n",
    "random_grid = {'n_estimators': n_estimators,\n",
    "               'max_features': max_features,\n",
    "               'max_depth': max_depth,\n",
    "               'min_samples_split': min_samples_split,\n",
    "               'min_samples_leaf': min_samples_leaf,\n",
    "               'bootstrap': bootstrap}\n",
    "print(random_grid)"
   ]
  },
  {
   "cell_type": "code",
   "execution_count": null,
   "id": "6bd5990e",
   "metadata": {
    "scrolled": true
   },
   "outputs": [],
   "source": [
    "# Use the random grid to search for best hyperparameters\n",
    "# First create the base model to tune\n",
    "from sklearn.ensemble import RandomForestClassifier\n",
    "rf = RandomForestClassifier()\n",
    "# Random search of parameters, using 3 fold cross validation, \n",
    "# search across 100 different combinations, and use all available cores\n",
    "rf_random = RandomizedSearchCV(estimator = rf, param_distributions = random_grid, n_iter = 100, cv = 3, verbose=2, random_state=42, n_jobs = -1)\n",
    "# Fit the random search model\n",
    "rf_random.fit(X_train, y_train)\n",
    "y_pred = rf_random.predict(X_test)\n",
    "print(\"ACCURACY OF THE MODEL: \", metrics.accuracy_score(y_test, y_pred))"
   ]
  },
  {
   "cell_type": "code",
   "execution_count": 77,
   "id": "8399f5b4",
   "metadata": {},
   "outputs": [],
   "source": [
    "from sklearn.model_selection import GridSearchCV\n",
    "# Create the parameter grid based on the results of random search \n",
    "param_grid = {'n_estimators': [200, 400, 600, 800, 1000, 1200, 1400, 1600, 1800, 2000], 'max_features': ['auto', 'sqrt'], 'max_depth': [10, 20, 30, 40, 50, 60, 70, 80, 90, 100, 110, None], 'min_samples_split': [2, 5, 10], 'min_samples_leaf': [1, 2, 4], 'bootstrap': [True, False]}\n",
    "# Create a based model\n",
    "rf = RandomForestClassifier()\n",
    "# Instantiate the grid search model\n",
    "grid_search = GridSearchCV(estimator = rf, param_grid = param_grid, \n",
    "                          cv = 3, n_jobs = -1, verbose = 2)"
   ]
  },
  {
   "cell_type": "code",
   "execution_count": 78,
   "id": "95dffbd0",
   "metadata": {},
   "outputs": [
    {
     "name": "stdout",
     "output_type": "stream",
     "text": [
      "Fitting 3 folds for each of 4320 candidates, totalling 12960 fits\n"
     ]
    },
    {
     "ename": "KeyboardInterrupt",
     "evalue": "",
     "output_type": "error",
     "traceback": [
      "\u001b[1;31m---------------------------------------------------------------------------\u001b[0m",
      "\u001b[1;31mKeyboardInterrupt\u001b[0m                         Traceback (most recent call last)",
      "Input \u001b[1;32mIn [78]\u001b[0m, in \u001b[0;36m<cell line: 2>\u001b[1;34m()\u001b[0m\n\u001b[0;32m      1\u001b[0m \u001b[38;5;66;03m# Fit the grid search to the data\u001b[39;00m\n\u001b[1;32m----> 2\u001b[0m \u001b[43mgrid_search\u001b[49m\u001b[38;5;241;43m.\u001b[39;49m\u001b[43mfit\u001b[49m\u001b[43m(\u001b[49m\u001b[43mX_train\u001b[49m\u001b[43m,\u001b[49m\u001b[43m \u001b[49m\u001b[43my_train\u001b[49m\u001b[43m)\u001b[49m\n\u001b[0;32m      3\u001b[0m grid_search\u001b[38;5;241m.\u001b[39mbest_params_\n\u001b[0;32m      4\u001b[0m best_grid \u001b[38;5;241m=\u001b[39m grid_search\u001b[38;5;241m.\u001b[39mbest_estimator_\n",
      "File \u001b[1;32mD:\\DEV PC\\anaconda\\lib\\site-packages\\sklearn\\model_selection\\_search.py:891\u001b[0m, in \u001b[0;36mBaseSearchCV.fit\u001b[1;34m(self, X, y, groups, **fit_params)\u001b[0m\n\u001b[0;32m    885\u001b[0m     results \u001b[38;5;241m=\u001b[39m \u001b[38;5;28mself\u001b[39m\u001b[38;5;241m.\u001b[39m_format_results(\n\u001b[0;32m    886\u001b[0m         all_candidate_params, n_splits, all_out, all_more_results\n\u001b[0;32m    887\u001b[0m     )\n\u001b[0;32m    889\u001b[0m     \u001b[38;5;28;01mreturn\u001b[39;00m results\n\u001b[1;32m--> 891\u001b[0m \u001b[38;5;28;43mself\u001b[39;49m\u001b[38;5;241;43m.\u001b[39;49m\u001b[43m_run_search\u001b[49m\u001b[43m(\u001b[49m\u001b[43mevaluate_candidates\u001b[49m\u001b[43m)\u001b[49m\n\u001b[0;32m    893\u001b[0m \u001b[38;5;66;03m# multimetric is determined here because in the case of a callable\u001b[39;00m\n\u001b[0;32m    894\u001b[0m \u001b[38;5;66;03m# self.scoring the return type is only known after calling\u001b[39;00m\n\u001b[0;32m    895\u001b[0m first_test_score \u001b[38;5;241m=\u001b[39m all_out[\u001b[38;5;241m0\u001b[39m][\u001b[38;5;124m\"\u001b[39m\u001b[38;5;124mtest_scores\u001b[39m\u001b[38;5;124m\"\u001b[39m]\n",
      "File \u001b[1;32mD:\\DEV PC\\anaconda\\lib\\site-packages\\sklearn\\model_selection\\_search.py:1392\u001b[0m, in \u001b[0;36mGridSearchCV._run_search\u001b[1;34m(self, evaluate_candidates)\u001b[0m\n\u001b[0;32m   1390\u001b[0m \u001b[38;5;28;01mdef\u001b[39;00m \u001b[38;5;21m_run_search\u001b[39m(\u001b[38;5;28mself\u001b[39m, evaluate_candidates):\n\u001b[0;32m   1391\u001b[0m     \u001b[38;5;124;03m\"\"\"Search all candidates in param_grid\"\"\"\u001b[39;00m\n\u001b[1;32m-> 1392\u001b[0m     \u001b[43mevaluate_candidates\u001b[49m\u001b[43m(\u001b[49m\u001b[43mParameterGrid\u001b[49m\u001b[43m(\u001b[49m\u001b[38;5;28;43mself\u001b[39;49m\u001b[38;5;241;43m.\u001b[39;49m\u001b[43mparam_grid\u001b[49m\u001b[43m)\u001b[49m\u001b[43m)\u001b[49m\n",
      "File \u001b[1;32mD:\\DEV PC\\anaconda\\lib\\site-packages\\sklearn\\model_selection\\_search.py:838\u001b[0m, in \u001b[0;36mBaseSearchCV.fit.<locals>.evaluate_candidates\u001b[1;34m(candidate_params, cv, more_results)\u001b[0m\n\u001b[0;32m    830\u001b[0m \u001b[38;5;28;01mif\u001b[39;00m \u001b[38;5;28mself\u001b[39m\u001b[38;5;241m.\u001b[39mverbose \u001b[38;5;241m>\u001b[39m \u001b[38;5;241m0\u001b[39m:\n\u001b[0;32m    831\u001b[0m     \u001b[38;5;28mprint\u001b[39m(\n\u001b[0;32m    832\u001b[0m         \u001b[38;5;124m\"\u001b[39m\u001b[38;5;124mFitting \u001b[39m\u001b[38;5;132;01m{0}\u001b[39;00m\u001b[38;5;124m folds for each of \u001b[39m\u001b[38;5;132;01m{1}\u001b[39;00m\u001b[38;5;124m candidates,\u001b[39m\u001b[38;5;124m\"\u001b[39m\n\u001b[0;32m    833\u001b[0m         \u001b[38;5;124m\"\u001b[39m\u001b[38;5;124m totalling \u001b[39m\u001b[38;5;132;01m{2}\u001b[39;00m\u001b[38;5;124m fits\u001b[39m\u001b[38;5;124m\"\u001b[39m\u001b[38;5;241m.\u001b[39mformat(\n\u001b[0;32m    834\u001b[0m             n_splits, n_candidates, n_candidates \u001b[38;5;241m*\u001b[39m n_splits\n\u001b[0;32m    835\u001b[0m         )\n\u001b[0;32m    836\u001b[0m     )\n\u001b[1;32m--> 838\u001b[0m out \u001b[38;5;241m=\u001b[39m \u001b[43mparallel\u001b[49m\u001b[43m(\u001b[49m\n\u001b[0;32m    839\u001b[0m \u001b[43m    \u001b[49m\u001b[43mdelayed\u001b[49m\u001b[43m(\u001b[49m\u001b[43m_fit_and_score\u001b[49m\u001b[43m)\u001b[49m\u001b[43m(\u001b[49m\n\u001b[0;32m    840\u001b[0m \u001b[43m        \u001b[49m\u001b[43mclone\u001b[49m\u001b[43m(\u001b[49m\u001b[43mbase_estimator\u001b[49m\u001b[43m)\u001b[49m\u001b[43m,\u001b[49m\n\u001b[0;32m    841\u001b[0m \u001b[43m        \u001b[49m\u001b[43mX\u001b[49m\u001b[43m,\u001b[49m\n\u001b[0;32m    842\u001b[0m \u001b[43m        \u001b[49m\u001b[43my\u001b[49m\u001b[43m,\u001b[49m\n\u001b[0;32m    843\u001b[0m \u001b[43m        \u001b[49m\u001b[43mtrain\u001b[49m\u001b[38;5;241;43m=\u001b[39;49m\u001b[43mtrain\u001b[49m\u001b[43m,\u001b[49m\n\u001b[0;32m    844\u001b[0m \u001b[43m        \u001b[49m\u001b[43mtest\u001b[49m\u001b[38;5;241;43m=\u001b[39;49m\u001b[43mtest\u001b[49m\u001b[43m,\u001b[49m\n\u001b[0;32m    845\u001b[0m \u001b[43m        \u001b[49m\u001b[43mparameters\u001b[49m\u001b[38;5;241;43m=\u001b[39;49m\u001b[43mparameters\u001b[49m\u001b[43m,\u001b[49m\n\u001b[0;32m    846\u001b[0m \u001b[43m        \u001b[49m\u001b[43msplit_progress\u001b[49m\u001b[38;5;241;43m=\u001b[39;49m\u001b[43m(\u001b[49m\u001b[43msplit_idx\u001b[49m\u001b[43m,\u001b[49m\u001b[43m \u001b[49m\u001b[43mn_splits\u001b[49m\u001b[43m)\u001b[49m\u001b[43m,\u001b[49m\n\u001b[0;32m    847\u001b[0m \u001b[43m        \u001b[49m\u001b[43mcandidate_progress\u001b[49m\u001b[38;5;241;43m=\u001b[39;49m\u001b[43m(\u001b[49m\u001b[43mcand_idx\u001b[49m\u001b[43m,\u001b[49m\u001b[43m \u001b[49m\u001b[43mn_candidates\u001b[49m\u001b[43m)\u001b[49m\u001b[43m,\u001b[49m\n\u001b[0;32m    848\u001b[0m \u001b[43m        \u001b[49m\u001b[38;5;241;43m*\u001b[39;49m\u001b[38;5;241;43m*\u001b[39;49m\u001b[43mfit_and_score_kwargs\u001b[49m\u001b[43m,\u001b[49m\n\u001b[0;32m    849\u001b[0m \u001b[43m    \u001b[49m\u001b[43m)\u001b[49m\n\u001b[0;32m    850\u001b[0m \u001b[43m    \u001b[49m\u001b[38;5;28;43;01mfor\u001b[39;49;00m\u001b[43m \u001b[49m\u001b[43m(\u001b[49m\u001b[43mcand_idx\u001b[49m\u001b[43m,\u001b[49m\u001b[43m \u001b[49m\u001b[43mparameters\u001b[49m\u001b[43m)\u001b[49m\u001b[43m,\u001b[49m\u001b[43m \u001b[49m\u001b[43m(\u001b[49m\u001b[43msplit_idx\u001b[49m\u001b[43m,\u001b[49m\u001b[43m \u001b[49m\u001b[43m(\u001b[49m\u001b[43mtrain\u001b[49m\u001b[43m,\u001b[49m\u001b[43m \u001b[49m\u001b[43mtest\u001b[49m\u001b[43m)\u001b[49m\u001b[43m)\u001b[49m\u001b[43m \u001b[49m\u001b[38;5;129;43;01min\u001b[39;49;00m\u001b[43m \u001b[49m\u001b[43mproduct\u001b[49m\u001b[43m(\u001b[49m\n\u001b[0;32m    851\u001b[0m \u001b[43m        \u001b[49m\u001b[38;5;28;43menumerate\u001b[39;49m\u001b[43m(\u001b[49m\u001b[43mcandidate_params\u001b[49m\u001b[43m)\u001b[49m\u001b[43m,\u001b[49m\u001b[43m \u001b[49m\u001b[38;5;28;43menumerate\u001b[39;49m\u001b[43m(\u001b[49m\u001b[43mcv\u001b[49m\u001b[38;5;241;43m.\u001b[39;49m\u001b[43msplit\u001b[49m\u001b[43m(\u001b[49m\u001b[43mX\u001b[49m\u001b[43m,\u001b[49m\u001b[43m \u001b[49m\u001b[43my\u001b[49m\u001b[43m,\u001b[49m\u001b[43m \u001b[49m\u001b[43mgroups\u001b[49m\u001b[43m)\u001b[49m\u001b[43m)\u001b[49m\n\u001b[0;32m    852\u001b[0m \u001b[43m    \u001b[49m\u001b[43m)\u001b[49m\n\u001b[0;32m    853\u001b[0m \u001b[43m\u001b[49m\u001b[43m)\u001b[49m\n\u001b[0;32m    855\u001b[0m \u001b[38;5;28;01mif\u001b[39;00m \u001b[38;5;28mlen\u001b[39m(out) \u001b[38;5;241m<\u001b[39m \u001b[38;5;241m1\u001b[39m:\n\u001b[0;32m    856\u001b[0m     \u001b[38;5;28;01mraise\u001b[39;00m \u001b[38;5;167;01mValueError\u001b[39;00m(\n\u001b[0;32m    857\u001b[0m         \u001b[38;5;124m\"\u001b[39m\u001b[38;5;124mNo fits were performed. \u001b[39m\u001b[38;5;124m\"\u001b[39m\n\u001b[0;32m    858\u001b[0m         \u001b[38;5;124m\"\u001b[39m\u001b[38;5;124mWas the CV iterator empty? \u001b[39m\u001b[38;5;124m\"\u001b[39m\n\u001b[0;32m    859\u001b[0m         \u001b[38;5;124m\"\u001b[39m\u001b[38;5;124mWere there no candidates?\u001b[39m\u001b[38;5;124m\"\u001b[39m\n\u001b[0;32m    860\u001b[0m     )\n",
      "File \u001b[1;32mD:\\DEV PC\\anaconda\\lib\\site-packages\\joblib\\parallel.py:1056\u001b[0m, in \u001b[0;36mParallel.__call__\u001b[1;34m(self, iterable)\u001b[0m\n\u001b[0;32m   1053\u001b[0m     \u001b[38;5;28mself\u001b[39m\u001b[38;5;241m.\u001b[39m_iterating \u001b[38;5;241m=\u001b[39m \u001b[38;5;28;01mFalse\u001b[39;00m\n\u001b[0;32m   1055\u001b[0m \u001b[38;5;28;01mwith\u001b[39;00m \u001b[38;5;28mself\u001b[39m\u001b[38;5;241m.\u001b[39m_backend\u001b[38;5;241m.\u001b[39mretrieval_context():\n\u001b[1;32m-> 1056\u001b[0m     \u001b[38;5;28;43mself\u001b[39;49m\u001b[38;5;241;43m.\u001b[39;49m\u001b[43mretrieve\u001b[49m\u001b[43m(\u001b[49m\u001b[43m)\u001b[49m\n\u001b[0;32m   1057\u001b[0m \u001b[38;5;66;03m# Make sure that we get a last message telling us we are done\u001b[39;00m\n\u001b[0;32m   1058\u001b[0m elapsed_time \u001b[38;5;241m=\u001b[39m time\u001b[38;5;241m.\u001b[39mtime() \u001b[38;5;241m-\u001b[39m \u001b[38;5;28mself\u001b[39m\u001b[38;5;241m.\u001b[39m_start_time\n",
      "File \u001b[1;32mD:\\DEV PC\\anaconda\\lib\\site-packages\\joblib\\parallel.py:935\u001b[0m, in \u001b[0;36mParallel.retrieve\u001b[1;34m(self)\u001b[0m\n\u001b[0;32m    933\u001b[0m \u001b[38;5;28;01mtry\u001b[39;00m:\n\u001b[0;32m    934\u001b[0m     \u001b[38;5;28;01mif\u001b[39;00m \u001b[38;5;28mgetattr\u001b[39m(\u001b[38;5;28mself\u001b[39m\u001b[38;5;241m.\u001b[39m_backend, \u001b[38;5;124m'\u001b[39m\u001b[38;5;124msupports_timeout\u001b[39m\u001b[38;5;124m'\u001b[39m, \u001b[38;5;28;01mFalse\u001b[39;00m):\n\u001b[1;32m--> 935\u001b[0m         \u001b[38;5;28mself\u001b[39m\u001b[38;5;241m.\u001b[39m_output\u001b[38;5;241m.\u001b[39mextend(\u001b[43mjob\u001b[49m\u001b[38;5;241;43m.\u001b[39;49m\u001b[43mget\u001b[49m\u001b[43m(\u001b[49m\u001b[43mtimeout\u001b[49m\u001b[38;5;241;43m=\u001b[39;49m\u001b[38;5;28;43mself\u001b[39;49m\u001b[38;5;241;43m.\u001b[39;49m\u001b[43mtimeout\u001b[49m\u001b[43m)\u001b[49m)\n\u001b[0;32m    936\u001b[0m     \u001b[38;5;28;01melse\u001b[39;00m:\n\u001b[0;32m    937\u001b[0m         \u001b[38;5;28mself\u001b[39m\u001b[38;5;241m.\u001b[39m_output\u001b[38;5;241m.\u001b[39mextend(job\u001b[38;5;241m.\u001b[39mget())\n",
      "File \u001b[1;32mD:\\DEV PC\\anaconda\\lib\\site-packages\\joblib\\_parallel_backends.py:542\u001b[0m, in \u001b[0;36mLokyBackend.wrap_future_result\u001b[1;34m(future, timeout)\u001b[0m\n\u001b[0;32m    539\u001b[0m \u001b[38;5;124;03m\"\"\"Wrapper for Future.result to implement the same behaviour as\u001b[39;00m\n\u001b[0;32m    540\u001b[0m \u001b[38;5;124;03mAsyncResults.get from multiprocessing.\"\"\"\u001b[39;00m\n\u001b[0;32m    541\u001b[0m \u001b[38;5;28;01mtry\u001b[39;00m:\n\u001b[1;32m--> 542\u001b[0m     \u001b[38;5;28;01mreturn\u001b[39;00m \u001b[43mfuture\u001b[49m\u001b[38;5;241;43m.\u001b[39;49m\u001b[43mresult\u001b[49m\u001b[43m(\u001b[49m\u001b[43mtimeout\u001b[49m\u001b[38;5;241;43m=\u001b[39;49m\u001b[43mtimeout\u001b[49m\u001b[43m)\u001b[49m\n\u001b[0;32m    543\u001b[0m \u001b[38;5;28;01mexcept\u001b[39;00m CfTimeoutError \u001b[38;5;28;01mas\u001b[39;00m e:\n\u001b[0;32m    544\u001b[0m     \u001b[38;5;28;01mraise\u001b[39;00m \u001b[38;5;167;01mTimeoutError\u001b[39;00m \u001b[38;5;28;01mfrom\u001b[39;00m \u001b[38;5;21;01me\u001b[39;00m\n",
      "File \u001b[1;32mD:\\DEV PC\\anaconda\\lib\\concurrent\\futures\\_base.py:441\u001b[0m, in \u001b[0;36mFuture.result\u001b[1;34m(self, timeout)\u001b[0m\n\u001b[0;32m    438\u001b[0m \u001b[38;5;28;01melif\u001b[39;00m \u001b[38;5;28mself\u001b[39m\u001b[38;5;241m.\u001b[39m_state \u001b[38;5;241m==\u001b[39m FINISHED:\n\u001b[0;32m    439\u001b[0m     \u001b[38;5;28;01mreturn\u001b[39;00m \u001b[38;5;28mself\u001b[39m\u001b[38;5;241m.\u001b[39m__get_result()\n\u001b[1;32m--> 441\u001b[0m \u001b[38;5;28;43mself\u001b[39;49m\u001b[38;5;241;43m.\u001b[39;49m\u001b[43m_condition\u001b[49m\u001b[38;5;241;43m.\u001b[39;49m\u001b[43mwait\u001b[49m\u001b[43m(\u001b[49m\u001b[43mtimeout\u001b[49m\u001b[43m)\u001b[49m\n\u001b[0;32m    443\u001b[0m \u001b[38;5;28;01mif\u001b[39;00m \u001b[38;5;28mself\u001b[39m\u001b[38;5;241m.\u001b[39m_state \u001b[38;5;129;01min\u001b[39;00m [CANCELLED, CANCELLED_AND_NOTIFIED]:\n\u001b[0;32m    444\u001b[0m     \u001b[38;5;28;01mraise\u001b[39;00m CancelledError()\n",
      "File \u001b[1;32mD:\\DEV PC\\anaconda\\lib\\threading.py:312\u001b[0m, in \u001b[0;36mCondition.wait\u001b[1;34m(self, timeout)\u001b[0m\n\u001b[0;32m    310\u001b[0m \u001b[38;5;28;01mtry\u001b[39;00m:    \u001b[38;5;66;03m# restore state no matter what (e.g., KeyboardInterrupt)\u001b[39;00m\n\u001b[0;32m    311\u001b[0m     \u001b[38;5;28;01mif\u001b[39;00m timeout \u001b[38;5;129;01mis\u001b[39;00m \u001b[38;5;28;01mNone\u001b[39;00m:\n\u001b[1;32m--> 312\u001b[0m         \u001b[43mwaiter\u001b[49m\u001b[38;5;241;43m.\u001b[39;49m\u001b[43macquire\u001b[49m\u001b[43m(\u001b[49m\u001b[43m)\u001b[49m\n\u001b[0;32m    313\u001b[0m         gotit \u001b[38;5;241m=\u001b[39m \u001b[38;5;28;01mTrue\u001b[39;00m\n\u001b[0;32m    314\u001b[0m     \u001b[38;5;28;01melse\u001b[39;00m:\n",
      "\u001b[1;31mKeyboardInterrupt\u001b[0m: "
     ]
    }
   ],
   "source": [
    "# Fit the grid search to the data\n",
    "grid_search.fit(X_train, y_train)\n",
    "grid_search.best_params_\n",
    "best_grid = grid_search.best_estimator_\n",
    "grid_accuracy = evaluate(best_grid, X_test, y_test)\n",
    "print(grid_accuracy)"
   ]
  },
  {
   "cell_type": "markdown",
   "id": "12c4db7d",
   "metadata": {},
   "source": [
    "### Decision Tree Classifier"
   ]
  },
  {
   "cell_type": "code",
   "execution_count": 39,
   "id": "8b47390e",
   "metadata": {},
   "outputs": [
    {
     "name": "stdout",
     "output_type": "stream",
     "text": [
      "ACCURACY OF THE MODEL:  0.7533333333333333\n"
     ]
    },
    {
     "data": {
      "text/plain": [
       "Text(0.5, 1.05, 'Confusion_matrix')"
      ]
     },
     "execution_count": 39,
     "metadata": {},
     "output_type": "execute_result"
    },
    {
     "data": {
      "image/png": "[encoded data removed]",
      "text/plain": [
       "<Figure size 432x288 with 2 Axes>"
      ]
     },
     "metadata": {
      "needs_background": "light"
     },
     "output_type": "display_data"
    }
   ],
   "source": [
    "# importing necessary libraries\n",
    "from sklearn import datasets\n",
    "from sklearn.metrics import confusion_matrix\n",
    "from sklearn.model_selection import train_test_split\n",
    "from sklearn.tree import DecisionTreeClassifier\n",
    "import seaborn as sns\n",
    "\n",
    "dtree_model = DecisionTreeClassifier(max_depth = 2).fit(X_train, y_train)\n",
    "dtree_predictions = dtree_model.predict(X_test)\n",
    "\n",
    "# creating a confusion matrix\n",
    "confusion_matrix(y_test, dtree_predictions)\n",
    "print(\"ACCURACY OF THE MODEL: \", metrics.accuracy_score(y_test, dtree_predictions))\n",
    "sns.heatmap(confusion_matrix(y_test,dtree_predictions),annot=True,fmt='3.0f',cmap=\"summer\")\n",
    "plt.title('Confusion_matrix', y=1.05, size=15)"
   ]
  },
  {
   "cell_type": "markdown",
   "id": "fc27bf0c",
   "metadata": {},
   "source": [
    "### Hyper Parameter Tuning"
   ]
  },
  {
   "cell_type": "code",
   "execution_count": 40,
   "id": "a5cdfe26",
   "metadata": {},
   "outputs": [
    {
     "name": "stdout",
     "output_type": "stream",
     "text": [
      "ACCURACY OF THE MODEL:  0.9966666666666667\n"
     ]
    },
    {
     "data": {
      "text/plain": [
       "Text(0.5, 1.05, 'Confusion_matrix')"
      ]
     },
     "execution_count": 40,
     "metadata": {},
     "output_type": "execute_result"
    },
    {
     "data": {
      "image/png": "[encoded data removed]",
      "text/plain": [
       "<Figure size 432x288 with 2 Axes>"
      ]
     },
     "metadata": {
      "needs_background": "light"
     },
     "output_type": "display_data"
    }
   ],
   "source": [
    "dtree_model = DecisionTreeClassifier().fit(X_train, y_train)\n",
    "dtree_predictions = dtree_model.predict(X_test)\n",
    "\n",
    "# creating a confusion matrix\n",
    "confusion_matrix(y_test, dtree_predictions)\n",
    "print(\"ACCURACY OF THE MODEL: \", metrics.accuracy_score(y_test, dtree_predictions))\n",
    "sns.heatmap(confusion_matrix(y_test,dtree_predictions),annot=True,fmt='3.0f',cmap=\"summer\")\n",
    "plt.title('Confusion_matrix', y=1.05, size=15)"
   ]
  },
  {
   "cell_type": "markdown",
   "id": "6837a2d5",
   "metadata": {},
   "source": [
    "### KNeighborsClassifier"
   ]
  },
  {
   "cell_type": "code",
   "execution_count": 42,
   "id": "47bf61c8",
   "metadata": {},
   "outputs": [
    {
     "name": "stdout",
     "output_type": "stream",
     "text": [
      "0.43333333333333335\n"
     ]
    },
    {
     "data": {
      "text/plain": [
       "Text(0.5, 1.05, 'Confusion_matrix')"
      ]
     },
     "execution_count": 42,
     "metadata": {},
     "output_type": "execute_result"
    },
    {
     "data": {
      "image/png": "[encoded data removed]",
      "text/plain": [
       "<Figure size 432x288 with 2 Axes>"
      ]
     },
     "metadata": {
      "needs_background": "light"
     },
     "output_type": "display_data"
    }
   ],
   "source": [
    "# importing necessary libraries\n",
    "from sklearn import datasets\n",
    "from sklearn.metrics import confusion_matrix\n",
    "from sklearn.model_selection import train_test_split\n",
    "import numpy as np\n",
    "    \n",
    "# training a KNN classifier\n",
    "from sklearn.neighbors import KNeighborsClassifier\n",
    "knn = KNeighborsClassifier(n_neighbors = 7).fit(X_train, y_train)\n",
    "  \n",
    "# accuracy on X_test\n",
    "accuracy = knn.score(X_test, y_test)\n",
    "print(accuracy)\n",
    "\n",
    "# creating a confusion matrix\n",
    "knn_predictions = knn.predict(X_test) \n",
    "\n",
    "sns.heatmap(confusion_matrix(y_test,knn_predictions),annot=True,fmt='3.0f',cmap=\"summer\")\n",
    "plt.title('Confusion_matrix', y=1.05, size=15)"
   ]
  },
  {
   "cell_type": "markdown",
   "id": "f80c7725",
   "metadata": {},
   "source": [
    "## Hyper Parameter Tuning (Dev)"
   ]
  },
  {
   "cell_type": "code",
   "execution_count": 81,
   "id": "110ad484",
   "metadata": {},
   "outputs": [
    {
     "name": "stdout",
     "output_type": "stream",
     "text": [
      "Best leaf_size: 1\n",
      "Best p: 1\n",
      "Best n_neighbors: 2\n"
     ]
    }
   ],
   "source": [
    "#List Hyperparameters that we want to tune.\n",
    "leaf_size = list(range(1,50))\n",
    "n_neighbors = list(range(1,30))\n",
    "p=[1,2]\n",
    "#Convert to dictionary\n",
    "hyperparameters = dict(leaf_size=leaf_size, n_neighbors=n_neighbors, p=p)\n",
    "#Create new KNN object\n",
    "knn_2 = KNeighborsClassifier()\n",
    "#Use GridSearch\n",
    "clf = GridSearchCV(knn_2, hyperparameters, cv=10)\n",
    "#Fit the model\n",
    "best_model = clf.fit(x,y)\n",
    "#Print The value of best Hyperparameters\n",
    "print('Best leaf_size:', best_model.best_estimator_.get_params()['leaf_size'])\n",
    "print('Best p:', best_model.best_estimator_.get_params()['p'])\n",
    "print('Best n_neighbors:', best_model.best_estimator_.get_params()['n_neighbors'])"
   ]
  },
  {
   "cell_type": "code",
   "execution_count": 43,
   "id": "04a2475f",
   "metadata": {},
   "outputs": [
    {
     "name": "stdout",
     "output_type": "stream",
     "text": [
      "0.44333333333333336\n"
     ]
    },
    {
     "data": {
      "text/plain": [
       "Text(0.5, 1.05, 'Confusion_matrix')"
      ]
     },
     "execution_count": 43,
     "metadata": {},
     "output_type": "execute_result"
    },
    {
     "data": {
      "image/png": "[encoded data removed]",
      "text/plain": [
       "<Figure size 432x288 with 2 Axes>"
      ]
     },
     "metadata": {
      "needs_background": "light"
     },
     "output_type": "display_data"
    }
   ],
   "source": [
    "knn = KNeighborsClassifier(n_neighbors = 2, leaf_size=1, p=1).fit(X_train, y_train)\n",
    "\n",
    "# accuracy on X_test\n",
    "accuracy = knn.score(X_test, y_test)\n",
    "print(accuracy)\n",
    "  \n",
    "# creating a confusion matrix\n",
    "knn_predictions = knn.predict(X_test) \n",
    "sns.heatmap(confusion_matrix(y_test,knn_predictions),annot=True,fmt='3.0f',cmap=\"summer\")\n",
    "plt.title('Confusion_matrix', y=1.05, size=15)"
   ]
  },
  {
   "cell_type": "markdown",
   "id": "67629c20",
   "metadata": {},
   "source": [
    "### Naive Bayes Classifier"
   ]
  },
  {
   "cell_type": "code",
   "execution_count": 44,
   "id": "0022bc3e",
   "metadata": {},
   "outputs": [
    {
     "name": "stdout",
     "output_type": "stream",
     "text": [
      "0.87\n"
     ]
    },
    {
     "data": {
      "text/plain": [
       "Text(0.5, 1.05, 'Confusion_matrix')"
      ]
     },
     "execution_count": 44,
     "metadata": {},
     "output_type": "execute_result"
    },
    {
     "data": {
      "image/png": "[encoded data removed]",
      "text/plain": [
       "<Figure size 432x288 with 2 Axes>"
      ]
     },
     "metadata": {
      "needs_background": "light"
     },
     "output_type": "display_data"
    }
   ],
   "source": [
    "# training a Naive Bayes classifier\n",
    "from sklearn.naive_bayes import GaussianNB\n",
    "gnb = GaussianNB().fit(X_train, y_train)\n",
    "gnb_predictions = gnb.predict(X_test)\n",
    "\n",
    "# accuracy on X_test\n",
    "accuracy = gnb.score(X_test, y_test)\n",
    "print(accuracy)\n",
    "sns.heatmap(confusion_matrix(y_test,gnb_predictions),annot=True,fmt='3.0f',cmap=\"summer\")\n",
    "plt.title('Confusion_matrix', y=1.05, size=15)"
   ]
  },
  {
   "cell_type": "markdown",
   "id": "a29a4fd7",
   "metadata": {},
   "source": [
    "### Gradient Boosting Classifier"
   ]
  },
  {
   "cell_type": "code",
   "execution_count": 45,
   "id": "874b2b91",
   "metadata": {
    "scrolled": true
   },
   "outputs": [
    {
     "name": "stdout",
     "output_type": "stream",
     "text": [
      "Accuracy score (training): 0.967\n",
      "Accuracy score (validation): 0.953\n"
     ]
    }
   ],
   "source": [
    "from sklearn.ensemble import GradientBoostingClassifier\n",
    "\n",
    "gb = GradientBoostingClassifier(n_estimators=20, learning_rate = 0.5, max_features=2, max_depth = 2, random_state = 0)\n",
    "gb.fit(X_train, y_train)\n",
    "print(\"Accuracy score (training): {0:.3f}\".format(gb.score(X_train, y_train)))\n",
    "print(\"Accuracy score (validation): {0:.3f}\".format(gb.score(X_test, y_test)))"
   ]
  },
  {
   "cell_type": "markdown",
   "id": "fa211e3a",
   "metadata": {},
   "source": [
    "## Again tweaking the max_depth (this time for Gradient Boosting)"
   ]
  },
  {
   "cell_type": "code",
   "execution_count": 46,
   "id": "53e4966f",
   "metadata": {},
   "outputs": [
    {
     "name": "stdout",
     "output_type": "stream",
     "text": [
      "Accuracy score (training): 1.000\n",
      "Accuracy score (validation): 0.987\n"
     ]
    }
   ],
   "source": [
    "from sklearn.ensemble import GradientBoostingClassifier\n",
    "\n",
    "gb = GradientBoostingClassifier(n_estimators=20, learning_rate = 0.5, max_features=2, random_state = 0)\n",
    "gb.fit(X_train, y_train)\n",
    "print(\"Accuracy score (training): {0:.3f}\".format(gb.score(X_train, y_train)))\n",
    "print(\"Accuracy score (validation): {0:.3f}\".format(gb.score(X_test, y_test)))"
   ]
  },
  {
   "cell_type": "markdown",
   "id": "08e902a7",
   "metadata": {},
   "source": [
    "### Attempted to do SVM"
   ]
  },
  {
   "cell_type": "code",
   "execution_count": 22,
   "id": "94a088c2",
   "metadata": {},
   "outputs": [],
   "source": [
    "from sklearn import svm, datasets\n",
    "import sklearn.model_selection as model_selection\n",
    "from sklearn.metrics import accuracy_score\n",
    "from sklearn.metrics import f1_score"
   ]
  },
  {
   "cell_type": "code",
   "execution_count": null,
   "id": "57d7020c",
   "metadata": {},
   "outputs": [],
   "source": [
    "rbf = svm.SVC(kernel='linear').fit(X_train, y_train)\n",
    "#poly = svm.SVC(kernel='poly', degree=3, C=1).fit(X_train, y_train)"
   ]
  },
  {
   "cell_type": "code",
   "execution_count": null,
   "id": "94b818ba",
   "metadata": {},
   "outputs": [],
   "source": [
    "#poly_pred = poly.predict(X_test)\n",
    "rbf_pred = rbf.predict(X_test)\n"
   ]
  },
  {
   "cell_type": "code",
   "execution_count": null,
   "id": "bccbfb0d",
   "metadata": {},
   "outputs": [],
   "source": [
    "#poly_accuracy = accuracy_score(y_test, poly_pred)\n",
    "#poly_f1 = f1_score(y_test, poly_pred, average='weighted')\n",
    "#print('Accuracy (Polynomial Kernel): ', \"%.2f\" % (poly_accuracy*100))\n",
    "#print('F1 (Polynomial Kernel): ', \"%.2f\" % (poly_f1*100))"
   ]
  },
  {
   "cell_type": "code",
   "execution_count": null,
   "id": "1fa39018",
   "metadata": {},
   "outputs": [],
   "source": [
    "rbf_accuracy = accuracy_score(y_test, rbf_pred)\n",
    "rbf_f1 = f1_score(y_test, rbf_pred, average='weighted')\n",
    "print('Accuracy (RBF Kernel): ', \"%.2f\" % (rbf_accuracy*100))\n",
    "print('F1 (RBF Kernel): ', \"%.2f\" % (rbf_f1*100))"
   ]
  },
  {
   "cell_type": "markdown",
   "id": "e3cba463",
   "metadata": {},
   "source": [
    "## Deep Learning (Dev)"
   ]
  },
  {
   "cell_type": "code",
   "execution_count": 19,
   "id": "c0628880",
   "metadata": {},
   "outputs": [
    {
     "data": {
      "text/plain": [
       "((699, 9), (300, 9), (699,), (300,))"
      ]
     },
     "execution_count": 19,
     "metadata": {},
     "output_type": "execute_result"
    }
   ],
   "source": [
    "from sklearn.model_selection import train_test_split #for split the data\n",
    "from sklearn.metrics import accuracy_score  #for accuracy_score\n",
    "from sklearn.model_selection import KFold #for K-fold cross validation\n",
    "from sklearn.model_selection import cross_val_score #score evaluation\n",
    "from sklearn.model_selection import cross_val_predict #prediction\n",
    "from sklearn.model_selection import GridSearchCV # for Hyper parameter tuning\n",
    "from sklearn.metrics import confusion_matrix #for confusion matrix\n",
    "from sklearn import metrics\n",
    "\n",
    "data = pd.read_csv(r'D:\\DEV PC\\Columbia Summer Program\\project_2\\big_columbia_dataset.csv')\n",
    "\n",
    "data['grade'] = data['grade'].replace(['A'], 0)\n",
    "data['grade'] = data['grade'].replace(['B'], 1)\n",
    "data['grade'] = data['grade'].replace(['C'], 2)\n",
    "data['grade'] = data['grade'].replace(['D'], 3)\n",
    "data['grade'] = data['grade'].replace(['E'], 4)\n",
    "data['grade'] = data['grade'].replace(['F'], 5)\n",
    "data['grade'] = data['grade'].replace(['G'], 6)\n",
    "\n",
    "all_features = data.loc[: , [\"int_rate\", \"total_rec_int\", \"revol_util\", \"out_prncp\", \"out_prncp_inv\", \"total_pymnt\", \"CLI\", \"total_pymnt_inv\", \"inq_last_6mths\"]]\n",
    "Targeted_feature = data[\"grade\"]\n",
    "\n",
    "# total of 6891 records in dataset\n",
    "# Divide the data set into two- 70% for train and 30% for test\n",
    "\n",
    "#X_train,X_test,y_train,y_test = train_test_split(all_features,Targeted_feature,test_size=0.3)  \n",
    "X_train,X_test,y_train,y_test = train_test_split(all_features,Targeted_feature,test_size=0.3,random_state=42) \n",
    "\n",
    "# Check the train test data set shape\n",
    "X_train.shape,X_test.shape,y_train.shape,y_test.shape"
   ]
  },
  {
   "cell_type": "code",
   "execution_count": 20,
   "id": "2ee492db",
   "metadata": {},
   "outputs": [],
   "source": [
    "from keras.models import Sequential\n",
    "import tensorflow as tf\n",
    "from keras.layers import Dense\n",
    "from tensorflow.keras import layers\n",
    "from tensorflow.keras import activations\n",
    "from tensorflow.keras.layers import Dropout\n",
    "\n",
    "model = Sequential()\n",
    "model.add(Dense(49, input_shape = (9,), activation=\"relu\"))\n",
    "model.add(Dropout(0.2))\n",
    "model.add(Dense(7, activation=\"softmax\"))\n",
    "\n",
    "#model.add(Dense(12, activation=\"relu\"))\n",
    "#model.add(Dense(12, activation='softmax'))"
   ]
  },
  {
   "cell_type": "code",
   "execution_count": 21,
   "id": "20ab0525",
   "metadata": {},
   "outputs": [],
   "source": [
    "model.compile(loss=\"categorical_crossentropy\", optimizer=\"adam\", metrics=[\"accuracy\"])"
   ]
  },
  {
   "cell_type": "code",
   "execution_count": 22,
   "id": "4ed9d9ed",
   "metadata": {},
   "outputs": [
    {
     "name": "stdout",
     "output_type": "stream",
     "text": [
      "Epoch 1/100\n",
      "70/70 [==============================] - 1s 2ms/step - loss: 2499.4575 - accuracy: 0.2160\n",
      "Epoch 2/100\n",
      "70/70 [==============================] - 0s 3ms/step - loss: 1556.4792 - accuracy: 0.2432\n",
      "Epoch 3/100\n",
      "70/70 [==============================] - 0s 2ms/step - loss: 1254.5586 - accuracy: 0.2561\n",
      "Epoch 4/100\n",
      "70/70 [==============================] - 0s 2ms/step - loss: 999.6475 - accuracy: 0.2690\n",
      "Epoch 5/100\n",
      "70/70 [==============================] - 0s 2ms/step - loss: 676.1033 - accuracy: 0.2732\n",
      "Epoch 6/100\n",
      "70/70 [==============================] - 0s 2ms/step - loss: 498.4182 - accuracy: 0.2947\n",
      "Epoch 7/100\n",
      "70/70 [==============================] - 0s 2ms/step - loss: 373.0866 - accuracy: 0.3090\n",
      "Epoch 8/100\n",
      "70/70 [==============================] - 0s 2ms/step - loss: 279.5740 - accuracy: 0.3047\n",
      "Epoch 9/100\n",
      "70/70 [==============================] - 0s 2ms/step - loss: 182.9704 - accuracy: 0.3119\n",
      "Epoch 10/100\n",
      "70/70 [==============================] - 0s 2ms/step - loss: 127.2258 - accuracy: 0.3319\n",
      "Epoch 11/100\n",
      "70/70 [==============================] - 0s 3ms/step - loss: 73.5426 - accuracy: 0.3777\n",
      "Epoch 12/100\n",
      "70/70 [==============================] - 0s 3ms/step - loss: 61.2867 - accuracy: 0.3162\n",
      "Epoch 13/100\n",
      "70/70 [==============================] - 0s 2ms/step - loss: 42.0750 - accuracy: 0.3419\n",
      "Epoch 14/100\n",
      "70/70 [==============================] - 0s 2ms/step - loss: 31.6309 - accuracy: 0.3391\n",
      "Epoch 15/100\n",
      "70/70 [==============================] - 0s 2ms/step - loss: 27.4182 - accuracy: 0.3433\n",
      "Epoch 16/100\n",
      "70/70 [==============================] - 0s 2ms/step - loss: 23.7124 - accuracy: 0.3305\n",
      "Epoch 17/100\n",
      "70/70 [==============================] - 0s 2ms/step - loss: 19.3745 - accuracy: 0.3448\n",
      "Epoch 18/100\n",
      "70/70 [==============================] - 0s 2ms/step - loss: 21.5014 - accuracy: 0.3462\n",
      "Epoch 19/100\n",
      "70/70 [==============================] - 0s 2ms/step - loss: 24.9084 - accuracy: 0.3448\n",
      "Epoch 20/100\n",
      "70/70 [==============================] - 0s 2ms/step - loss: 18.0513 - accuracy: 0.3505\n",
      "Epoch 21/100\n",
      "70/70 [==============================] - 0s 2ms/step - loss: 13.3087 - accuracy: 0.3362\n",
      "Epoch 22/100\n",
      "70/70 [==============================] - 0s 2ms/step - loss: 14.3688 - accuracy: 0.3348\n",
      "Epoch 23/100\n",
      "70/70 [==============================] - 0s 2ms/step - loss: 16.5830 - accuracy: 0.3348\n",
      "Epoch 24/100\n",
      "70/70 [==============================] - 0s 2ms/step - loss: 13.1154 - accuracy: 0.3391\n",
      "Epoch 25/100\n",
      "70/70 [==============================] - 0s 2ms/step - loss: 9.3894 - accuracy: 0.3505\n",
      "Epoch 26/100\n",
      "70/70 [==============================] - 0s 2ms/step - loss: 12.7885 - accuracy: 0.3405\n",
      "Epoch 27/100\n",
      "70/70 [==============================] - 0s 2ms/step - loss: 12.0031 - accuracy: 0.3448\n",
      "Epoch 28/100\n",
      "70/70 [==============================] - 0s 2ms/step - loss: 10.1943 - accuracy: 0.3476\n",
      "Epoch 29/100\n",
      "70/70 [==============================] - 0s 2ms/step - loss: 10.2243 - accuracy: 0.3505\n",
      "Epoch 30/100\n",
      "70/70 [==============================] - 0s 2ms/step - loss: 8.7482 - accuracy: 0.3476\n",
      "Epoch 31/100\n",
      "70/70 [==============================] - 0s 3ms/step - loss: 12.3711 - accuracy: 0.3462\n",
      "Epoch 32/100\n",
      "70/70 [==============================] - 0s 2ms/step - loss: 9.4548 - accuracy: 0.3505\n",
      "Epoch 33/100\n",
      "70/70 [==============================] - 0s 2ms/step - loss: 11.2507 - accuracy: 0.3433\n",
      "Epoch 34/100\n",
      "70/70 [==============================] - 0s 2ms/step - loss: 6.0988 - accuracy: 0.3476\n",
      "Epoch 35/100\n",
      "70/70 [==============================] - 0s 2ms/step - loss: 8.8431 - accuracy: 0.3476\n",
      "Epoch 36/100\n",
      "70/70 [==============================] - 0s 2ms/step - loss: 6.4599 - accuracy: 0.3519\n",
      "Epoch 37/100\n",
      "70/70 [==============================] - 0s 2ms/step - loss: 7.3656 - accuracy: 0.3548\n",
      "Epoch 38/100\n",
      "70/70 [==============================] - 0s 2ms/step - loss: 9.2738 - accuracy: 0.3462\n",
      "Epoch 39/100\n",
      "70/70 [==============================] - 0s 2ms/step - loss: 5.7730 - accuracy: 0.3505\n",
      "Epoch 40/100\n",
      "70/70 [==============================] - 0s 2ms/step - loss: 4.5400 - accuracy: 0.3476\n",
      "Epoch 41/100\n",
      "70/70 [==============================] - 0s 2ms/step - loss: 4.5297 - accuracy: 0.3491\n",
      "Epoch 42/100\n",
      "70/70 [==============================] - 0s 2ms/step - loss: 4.9937 - accuracy: 0.3534\n",
      "Epoch 43/100\n",
      "70/70 [==============================] - 0s 2ms/step - loss: 5.6270 - accuracy: 0.3519\n",
      "Epoch 44/100\n",
      "70/70 [==============================] - 0s 2ms/step - loss: 5.9272 - accuracy: 0.3491\n",
      "Epoch 45/100\n",
      "70/70 [==============================] - 0s 2ms/step - loss: 5.4486 - accuracy: 0.3491\n",
      "Epoch 46/100\n",
      "70/70 [==============================] - 0s 2ms/step - loss: 5.8211 - accuracy: 0.3476\n",
      "Epoch 47/100\n",
      "70/70 [==============================] - 0s 2ms/step - loss: 3.7980 - accuracy: 0.3433\n",
      "Epoch 48/100\n",
      "70/70 [==============================] - 0s 2ms/step - loss: 4.6980 - accuracy: 0.3476\n",
      "Epoch 49/100\n",
      "70/70 [==============================] - 0s 2ms/step - loss: 3.7804 - accuracy: 0.3519\n",
      "Epoch 50/100\n",
      "70/70 [==============================] - 0s 2ms/step - loss: 3.0980 - accuracy: 0.3476\n",
      "Epoch 51/100\n",
      "70/70 [==============================] - 0s 2ms/step - loss: 2.9781 - accuracy: 0.3433\n",
      "Epoch 52/100\n",
      "70/70 [==============================] - 0s 2ms/step - loss: 3.1270 - accuracy: 0.3448\n",
      "Epoch 53/100\n",
      "70/70 [==============================] - 0s 2ms/step - loss: 3.5536 - accuracy: 0.3448\n",
      "Epoch 54/100\n",
      "70/70 [==============================] - 0s 2ms/step - loss: 3.0408 - accuracy: 0.3462\n",
      "Epoch 55/100\n",
      "70/70 [==============================] - 0s 2ms/step - loss: 2.7981 - accuracy: 0.3419\n",
      "Epoch 56/100\n",
      "70/70 [==============================] - 0s 2ms/step - loss: 3.2017 - accuracy: 0.3433\n",
      "Epoch 57/100\n",
      "70/70 [==============================] - 0s 2ms/step - loss: 3.3033 - accuracy: 0.3448\n",
      "Epoch 58/100\n",
      "70/70 [==============================] - 0s 2ms/step - loss: 2.7406 - accuracy: 0.3419\n",
      "Epoch 59/100\n",
      "70/70 [==============================] - 0s 2ms/step - loss: 2.2338 - accuracy: 0.3462\n",
      "Epoch 60/100\n",
      "70/70 [==============================] - 0s 2ms/step - loss: 2.3260 - accuracy: 0.3462\n",
      "Epoch 61/100\n",
      "70/70 [==============================] - 0s 2ms/step - loss: 2.2539 - accuracy: 0.3462\n",
      "Epoch 62/100\n",
      "70/70 [==============================] - 0s 2ms/step - loss: 2.5499 - accuracy: 0.3476\n",
      "Epoch 63/100\n",
      "70/70 [==============================] - 0s 2ms/step - loss: 3.2188 - accuracy: 0.3448\n",
      "Epoch 64/100\n",
      "70/70 [==============================] - 0s 2ms/step - loss: 2.2073 - accuracy: 0.3462\n",
      "Epoch 65/100\n",
      "70/70 [==============================] - 0s 2ms/step - loss: 2.5292 - accuracy: 0.3419\n",
      "Epoch 66/100\n",
      "70/70 [==============================] - 0s 2ms/step - loss: 2.7423 - accuracy: 0.3448\n",
      "Epoch 67/100\n",
      "70/70 [==============================] - 0s 2ms/step - loss: 1.8357 - accuracy: 0.3462\n",
      "Epoch 68/100\n",
      "70/70 [==============================] - 0s 2ms/step - loss: 1.8259 - accuracy: 0.3462\n",
      "Epoch 69/100\n",
      "70/70 [==============================] - 0s 2ms/step - loss: 1.9860 - accuracy: 0.3462\n",
      "Epoch 70/100\n",
      "70/70 [==============================] - 0s 2ms/step - loss: 2.1011 - accuracy: 0.3405\n",
      "Epoch 71/100\n",
      "70/70 [==============================] - 0s 2ms/step - loss: 2.1137 - accuracy: 0.3491\n",
      "Epoch 72/100\n",
      "70/70 [==============================] - 0s 2ms/step - loss: 1.9582 - accuracy: 0.3505\n",
      "Epoch 73/100\n",
      "70/70 [==============================] - 0s 2ms/step - loss: 2.2768 - accuracy: 0.3419\n",
      "Epoch 74/100\n",
      "70/70 [==============================] - 0s 3ms/step - loss: 1.7347 - accuracy: 0.3476\n",
      "Epoch 75/100\n",
      "70/70 [==============================] - 0s 2ms/step - loss: 2.5933 - accuracy: 0.3419\n",
      "Epoch 76/100\n",
      "70/70 [==============================] - 0s 2ms/step - loss: 1.7569 - accuracy: 0.3476\n",
      "Epoch 77/100\n",
      "70/70 [==============================] - 0s 2ms/step - loss: 1.8918 - accuracy: 0.3448\n",
      "Epoch 78/100\n",
      "70/70 [==============================] - 0s 2ms/step - loss: 1.9471 - accuracy: 0.3462\n",
      "Epoch 79/100\n",
      "70/70 [==============================] - 0s 2ms/step - loss: 1.8581 - accuracy: 0.3433\n",
      "Epoch 80/100\n",
      "70/70 [==============================] - 0s 2ms/step - loss: 1.6853 - accuracy: 0.3476\n",
      "Epoch 81/100\n",
      "70/70 [==============================] - 0s 2ms/step - loss: 1.6527 - accuracy: 0.3505\n",
      "Epoch 82/100\n",
      "70/70 [==============================] - 0s 2ms/step - loss: 1.8629 - accuracy: 0.3491\n",
      "Epoch 83/100\n",
      "70/70 [==============================] - 0s 2ms/step - loss: 1.6357 - accuracy: 0.3476\n",
      "Epoch 84/100\n",
      "70/70 [==============================] - 0s 2ms/step - loss: 1.8316 - accuracy: 0.3491\n",
      "Epoch 85/100\n",
      "70/70 [==============================] - 0s 2ms/step - loss: 1.7607 - accuracy: 0.3476\n",
      "Epoch 86/100\n",
      "70/70 [==============================] - 0s 2ms/step - loss: 1.6510 - accuracy: 0.3505\n",
      "Epoch 87/100\n",
      "70/70 [==============================] - 0s 2ms/step - loss: 1.5971 - accuracy: 0.3476\n",
      "Epoch 88/100\n",
      "70/70 [==============================] - 0s 2ms/step - loss: 1.7527 - accuracy: 0.3491\n",
      "Epoch 89/100\n",
      "70/70 [==============================] - 0s 2ms/step - loss: 1.6106 - accuracy: 0.3505\n",
      "Epoch 90/100\n",
      "70/70 [==============================] - 0s 2ms/step - loss: 1.6032 - accuracy: 0.3476\n",
      "Epoch 91/100\n",
      "70/70 [==============================] - 0s 2ms/step - loss: 1.5980 - accuracy: 0.3505\n",
      "Epoch 92/100\n",
      "70/70 [==============================] - 0s 2ms/step - loss: 1.5886 - accuracy: 0.3505\n",
      "Epoch 93/100\n",
      "70/70 [==============================] - 0s 2ms/step - loss: 1.5880 - accuracy: 0.3491\n",
      "Epoch 94/100\n",
      "70/70 [==============================] - 0s 2ms/step - loss: 1.5865 - accuracy: 0.3476\n",
      "Epoch 95/100\n",
      "70/70 [==============================] - 0s 3ms/step - loss: 1.5753 - accuracy: 0.3491\n",
      "Epoch 96/100\n",
      "70/70 [==============================] - 0s 3ms/step - loss: 1.6178 - accuracy: 0.3505\n",
      "Epoch 97/100\n",
      "70/70 [==============================] - 0s 2ms/step - loss: 1.6387 - accuracy: 0.3462\n",
      "Epoch 98/100\n",
      "70/70 [==============================] - 0s 2ms/step - loss: 1.5946 - accuracy: 0.3476\n",
      "Epoch 99/100\n",
      "70/70 [==============================] - 0s 2ms/step - loss: 1.6124 - accuracy: 0.3505\n",
      "Epoch 100/100\n",
      "70/70 [==============================] - 0s 2ms/step - loss: 1.6139 - accuracy: 0.3476\n"
     ]
    },
    {
     "data": {
      "text/plain": [
       "<keras.callbacks.History at 0x26253c3ea90>"
      ]
     },
     "execution_count": 22,
     "metadata": {},
     "output_type": "execute_result"
    }
   ],
   "source": [
    "y_train = tf.keras.utils.to_categorical(y_train, num_classes=7)\n",
    "model.fit(X_train, y_train, epochs=100, batch_size=10)"
   ]
  },
  {
   "cell_type": "code",
   "execution_count": 23,
   "id": "d54c0774",
   "metadata": {},
   "outputs": [
    {
     "name": "stdout",
     "output_type": "stream",
     "text": [
      "10/10 [==============================] - 0s 940us/step - loss: 2.4711 - accuracy: 0.3833\n",
      "Model accuracy: 38.33\n"
     ]
    }
   ],
   "source": [
    "y_test = tf.keras.utils.to_categorical(y_test, num_classes=7)\n",
    "_, accuracy = model.evaluate(X_test, y_test)\n",
    "print(\"Model accuracy: %.2f\"% (accuracy*100))\n",
    "#predictions = model.predict(X_test)     #make predictions\n",
    "#predictions"
   ]
  },
  {
   "cell_type": "markdown",
   "id": "fbf10e4f",
   "metadata": {},
   "source": [
    "# Thank You :)"
   ]
  },
  {
   "cell_type": "code",
   "execution_count": null,
   "id": "7624fc11",
   "metadata": {},
   "outputs": [],
   "source": []
  }
 ],
 "metadata": {
  "kernelspec": {
   "display_name": "Python 3 (ipykernel)",
   "language": "python",
   "name": "python3"
  },
  "language_info": {
   "codemirror_mode": {
    "name": "ipython",
    "version": 3
   },
   "file_extension": ".py",
   "mimetype": "text/x-python",
   "name": "python",
   "nbconvert_exporter": "python",
   "pygments_lexer": "ipython3",
   "version": "3.9.12"
  }
 },
 "nbformat": 4,
 "nbformat_minor": 5
}
